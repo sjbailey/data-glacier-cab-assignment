{
  "nbformat": 4,
  "nbformat_minor": 0,
  "metadata": {
    "colab": {
      "name": "dg_proj_data_cleaning.ipynb",
      "provenance": [],
      "collapsed_sections": [],
      "mount_file_id": "17yW4ELonOBCnC2ii9_oS4kgd2SxDs8I4",
      "authorship_tag": "ABX9TyNuZ6+dTao63Kj+UrN3fSmG",
      "include_colab_link": true
    },
    "kernelspec": {
      "name": "python3",
      "display_name": "Python 3"
    },
    "language_info": {
      "name": "python"
    }
  },
  "cells": [
    {
      "cell_type": "markdown",
      "metadata": {
        "id": "view-in-github",
        "colab_type": "text"
      },
      "source": [
        "<a href=\"https://colab.research.google.com/github/sjbailey/data-glacier-cab-assignment/blob/main/dg_proj_data_cleaning.ipynb\" target=\"_parent\"><img src=\"https://colab.research.google.com/assets/colab-badge.svg\" alt=\"Open In Colab\"/></a>"
      ]
    },
    {
      "cell_type": "code",
      "metadata": {
        "colab": {
          "base_uri": "https://localhost:8080/"
        },
        "id": "ZGEmHzB7tVBX",
        "outputId": "421e4b87-c23a-4a74-9be7-518f4f1e33d7"
      },
      "source": [
        "#!/usr/bin/env python3\n",
        "# -*- coding: utf-8 -*-\n",
        "\n",
        "import numpy as np\n",
        "import pandas as pd\n",
        "import matplotlib.pyplot as plt\n",
        "\n",
        "# Store the paths to the two files containing the data\n",
        "path_train = 'drive/MyDrive/Cross Selling/Train.csv'\n",
        "path_test = 'drive/MyDrive/Cross Selling/Test.csv'\n",
        "\n",
        "# Load the data into two data frames containing the data from each file\n",
        "df1 = pd.read_csv(path_train, header=0)\n",
        "df2 = pd.read_csv(path_test, header=0)\n",
        "\n",
        "# Combine (not join) the data frames\n",
        "df = pd.concat([df1, df2], axis=0)\n",
        "\n",
        "# Print the number of missing values for each variable\n",
        "df.isna().sum()\n",
        "\n",
        "# The following command returns an empty data frame\n",
        "df[df['indrel'] == 99][df['ult_fec_cli_1t'].isna()]\n",
        "# This is because where the value of indrel is 1 the variable 'ult_fec_cli_1t'\n",
        "# can have no value by its definition, and so it really has no missing values.\n",
        "\n",
        "# Next we consider the variables indrel_1mes and tiprel_1mes\n",
        "df[df[\"indrel_1mes\"].isna()]\n",
        "df[df[\"tiprel_1mes\"].isna()]\n",
        "# and impute their modes for their missing values\n",
        "df['indrel_1mes'].fillna(df['indrel_1mes'].mode()[0], inplace = True)\n",
        "df['tiprel_1mes'].fillna(df['tiprel_1mes'].mode()[0], inplace = True)\n",
        "\n",
        "# We impute the variable for income simply using the overall mean\n",
        "df['renta'].fillna(df['renta'].mean(), inplace = True)\n",
        "\n",
        "# Looking the sex variable, the missing values could represent people who\n",
        "# refused to declare their gender or who don't identify as either male or\n",
        "# female. It is better not to impute but simply to label these observations X\n",
        "df['sexo'].fillna('X', inplace = True)\n",
        "\n",
        "# Considering missing values of the variable conyuemp indicating marriages\n",
        "# between customers and employees:\n",
        "df[df['conyuemp'] == 'S']\n",
        "\n",
        "# There is a large number of missing values just in the test data, but of the\n",
        "# non-missing values, the customers who are spouses of employees appear to be\n",
        "# extremely uncommon (only 1 in the test data), so we impute the mode value to this variable\n",
        "df['conyuemp'].fillna(df['conyuemp'].mode()[0], inplace = True)\n",
        "\n",
        "# For the small number of missing values in the categorical variable\n",
        "# canal_entrada we use mode imputation again\n",
        "df['canal_entrada'].fillna(df['canal_entrada'].mode()[0], inplace = True)\n",
        "\n",
        "# For the cod_prov and nomprov variables, simple imputation of the modes would\n",
        "# be inappropriate and we use hot-deck imputation in this case\n",
        "df['cod_prov'].fillna(method='ffill', inplace=True)\n",
        "df['nomprov'].fillna(method='ffill', inplace=True)\n",
        "\n",
        "# Given the comparable magnitude of the numbers of individuals and college-graduates\n",
        "# for the segmento variable, the hot-deck imputation method seems suitable again\n",
        "df['segmento'].fillna(method = 'ffill', inplace = True)"
      ],
      "execution_count": 27,
      "outputs": [
        {
          "output_type": "stream",
          "name": "stderr",
          "text": [
            "/usr/local/lib/python3.7/dist-packages/IPython/core/interactiveshell.py:2718: DtypeWarning: Columns (15) have mixed types.Specify dtype option on import or set low_memory=False.\n",
            "  interactivity=interactivity, compiler=compiler, result=result)\n"
          ]
        }
      ]
    }
  ]
}